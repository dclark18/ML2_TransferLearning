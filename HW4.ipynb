{
  "nbformat": 4,
  "nbformat_minor": 0,
  "metadata": {
    "colab": {
      "name": "HW4.ipynb",
      "provenance": [],
      "authorship_tag": "ABX9TyOFML2vHzXLlRSvaTrun2yS",
      "include_colab_link": true
    },
    "kernelspec": {
      "name": "python3",
      "display_name": "Python 3"
    }
  },
  "cells": [
    {
      "cell_type": "markdown",
      "metadata": {
        "id": "view-in-github",
        "colab_type": "text"
      },
      "source": [
        "<a href=\"https://colab.research.google.com/github/dclark18/ML2_TransferLearning/blob/main/HW4.ipynb\" target=\"_parent\"><img src=\"https://colab.research.google.com/assets/colab-badge.svg\" alt=\"Open In Colab\"/></a>"
      ]
    },
    {
      "cell_type": "code",
      "metadata": {
        "id": "iSTD4vBeFUNy",
        "colab": {
          "base_uri": "https://localhost:8080/"
        },
        "outputId": "c62a5ee4-5dc2-444c-b98c-e81abf79ecd7"
      },
      "source": [
        "pip install emnist"
      ],
      "execution_count": 1,
      "outputs": [
        {
          "output_type": "stream",
          "text": [
            "Collecting emnist\n",
            "  Downloading https://files.pythonhosted.org/packages/d1/f4/78b24acbef9e8fe976dda700f16a3606f3b8363b015bc555f8050fbbd8ac/emnist-0.0-py3-none-any.whl\n",
            "Requirement already satisfied: numpy in /usr/local/lib/python3.7/dist-packages (from emnist) (1.19.5)\n",
            "Requirement already satisfied: requests in /usr/local/lib/python3.7/dist-packages (from emnist) (2.23.0)\n",
            "Requirement already satisfied: tqdm in /usr/local/lib/python3.7/dist-packages (from emnist) (4.41.1)\n",
            "Requirement already satisfied: urllib3!=1.25.0,!=1.25.1,<1.26,>=1.21.1 in /usr/local/lib/python3.7/dist-packages (from requests->emnist) (1.24.3)\n",
            "Requirement already satisfied: chardet<4,>=3.0.2 in /usr/local/lib/python3.7/dist-packages (from requests->emnist) (3.0.4)\n",
            "Requirement already satisfied: certifi>=2017.4.17 in /usr/local/lib/python3.7/dist-packages (from requests->emnist) (2020.12.5)\n",
            "Requirement already satisfied: idna<3,>=2.5 in /usr/local/lib/python3.7/dist-packages (from requests->emnist) (2.10)\n",
            "Installing collected packages: emnist\n",
            "Successfully installed emnist-0.0\n"
          ],
          "name": "stdout"
        }
      ]
    },
    {
      "cell_type": "code",
      "metadata": {
        "id": "95G7DBuDFWLX"
      },
      "source": [
        "from __future__ import print_function\n",
        "import datetime\n",
        "import keras\n",
        "from keras.datasets import mnist\n",
        "from keras.models import Sequential\n",
        "from keras.layers import Dense, Dropout, Activation, Flatten,  Conv2D, MaxPooling2D\n",
        "from keras import backend as K"
      ],
      "execution_count": 2,
      "outputs": []
    },
    {
      "cell_type": "code",
      "metadata": {
        "id": "R3Ipn6hjFfX3"
      },
      "source": [
        "from emnist import extract_test_samples"
      ],
      "execution_count": 3,
      "outputs": []
    },
    {
      "cell_type": "code",
      "metadata": {
        "id": "BL9VxUKXGKTT",
        "colab": {
          "base_uri": "https://localhost:8080/"
        },
        "outputId": "cbb17c0f-ada6-4843-c674-e96611b3c6c1"
      },
      "source": [
        "images, labels = extract_test_samples('digits')"
      ],
      "execution_count": 4,
      "outputs": [
        {
          "output_type": "stream",
          "text": [
            "Downloading emnist.zip: 536MB [00:04, 128MB/s]\n"
          ],
          "name": "stderr"
        }
      ]
    },
    {
      "cell_type": "code",
      "metadata": {
        "colab": {
          "base_uri": "https://localhost:8080/"
        },
        "id": "RkKhbYnAGauS",
        "outputId": "34548d56-2e42-4439-a162-1f56180e7e21"
      },
      "source": [
        "images.shape"
      ],
      "execution_count": 5,
      "outputs": [
        {
          "output_type": "execute_result",
          "data": {
            "text/plain": [
              "(40000, 28, 28)"
            ]
          },
          "metadata": {
            "tags": []
          },
          "execution_count": 5
        }
      ]
    },
    {
      "cell_type": "code",
      "metadata": {
        "id": "tRfPuRT-GfAE"
      },
      "source": [
        "now = datetime.datetime.now\n",
        "batch_size = 128\n",
        "num_classes = 15\n",
        "epochs = 5\n",
        "img_rows, img_cols = 28, 28\n",
        "filters = 32\n",
        "pool_size = 2\n",
        "kernel_size = 3\n",
        "if K.image_data_format() == 'channels_first':\n",
        "    input_shape = (1, img_rows, img_cols)\n",
        "else:\n",
        "    input_shape = (img_rows, img_cols, 1)\n"
      ],
      "execution_count": 6,
      "outputs": []
    },
    {
      "cell_type": "code",
      "metadata": {
        "id": "_Xr5XcIgGjCx"
      },
      "source": [
        "def train_model(model, train, test, num_classes):\n",
        "    x_train = train[0].reshape((train[0].shape[0],) + input_shape)\n",
        "    x_test = test[0].reshape((test[0].shape[0],) + input_shape)\n",
        "    x_train = x_train.astype('float32')\n",
        "    x_test = x_test.astype('float32')\n",
        "    x_train /= 255\n",
        "    x_test /= 255\n",
        "    print('x_train shape:', x_train.shape)\n",
        "    print(x_train.shape[0], 'train samples')\n",
        "    print(x_test.shape[0], 'test samples')\n",
        "    # convert class vectors to binary class matrices\n",
        "    y_train = keras.utils.to_categorical(train[1], num_classes)\n",
        "    y_test = keras.utils.to_categorical(test[1], num_classes)\n",
        "    model.compile(loss='categorical_crossentropy',\n",
        "                  optimizer='adadelta',\n",
        "                  metrics=['accuracy'])\n",
        "    t = now()\n",
        "    model.fit(x_train, y_train,\n",
        "              batch_size=batch_size,\n",
        "              epochs=epochs,\n",
        "              verbose=1,\n",
        "              validation_data=(x_test, y_test))\n",
        "    print('Training time: %s' % (now() - t))\n",
        "    score = model.evaluate(x_test, y_test, verbose=0)\n",
        "    print('Test score:', score[0])\n",
        "    print('Test accuracy:', score[1])"
      ],
      "execution_count": 7,
      "outputs": []
    },
    {
      "cell_type": "code",
      "metadata": {
        "id": "EXkPYbH6GweA",
        "colab": {
          "base_uri": "https://localhost:8080/"
        },
        "outputId": "79b152b5-9f65-43a2-cc1e-9f2423cf1d2f"
      },
      "source": [
        "(x_train, y_train), (x_test, y_test) = mnist.load_data()\n",
        "(x_train2, y_train2) = extract_test_samples('digits')"
      ],
      "execution_count": 8,
      "outputs": [
        {
          "output_type": "stream",
          "text": [
            "Downloading data from https://storage.googleapis.com/tensorflow/tf-keras-datasets/mnist.npz\n",
            "11493376/11490434 [==============================] - 0s 0us/step\n"
          ],
          "name": "stdout"
        }
      ]
    },
    {
      "cell_type": "code",
      "metadata": {
        "colab": {
          "base_uri": "https://localhost:8080/"
        },
        "id": "F8jMHAwK07C2",
        "outputId": "65b605e9-9854-4268-8b17-d32c7db8d480"
      },
      "source": [
        "y_train2"
      ],
      "execution_count": 9,
      "outputs": [
        {
          "output_type": "execute_result",
          "data": {
            "text/plain": [
              "array([0, 9, 7, ..., 3, 7, 4], dtype=uint8)"
            ]
          },
          "metadata": {
            "tags": []
          },
          "execution_count": 9
        }
      ]
    },
    {
      "cell_type": "code",
      "metadata": {
        "id": "iAeWXsULIZV8"
      },
      "source": [
        "feature_layers = [\n",
        "    Conv2D(filters, kernel_size,\n",
        "           padding='valid',\n",
        "           input_shape=input_shape),\n",
        "    Activation('relu'),\n",
        "    Conv2D(filters, kernel_size),\n",
        "    Activation('relu'),\n",
        "    MaxPooling2D(pool_size=pool_size),\n",
        "    Dropout(0.25),\n",
        "    Flatten(),\n",
        "]"
      ],
      "execution_count": 10,
      "outputs": []
    },
    {
      "cell_type": "code",
      "metadata": {
        "id": "ZShDyskhI79B"
      },
      "source": [
        "\n",
        "classification_layers = [\n",
        "    Dense(128),\n",
        "    Activation('relu'),\n",
        "    Dropout(0.5),\n",
        "    Dense(num_classes),\n",
        "    Activation('softmax')\n",
        "]"
      ],
      "execution_count": 11,
      "outputs": []
    },
    {
      "cell_type": "code",
      "metadata": {
        "id": "8F_BtSa3I-gM"
      },
      "source": [
        "# create complete model\n",
        "model = Sequential(feature_layers + classification_layers)\n"
      ],
      "execution_count": 12,
      "outputs": []
    },
    {
      "cell_type": "code",
      "metadata": {
        "colab": {
          "base_uri": "https://localhost:8080/"
        },
        "id": "v639Mbv_JARd",
        "outputId": "6d5c100b-5caf-4d7c-e158-3d0c47dd87d6"
      },
      "source": [
        "# train model for 5-digit classification [0..4]\n",
        "train_model(model,\n",
        "            (x_train, y_train),\n",
        "            (x_test, y_test), num_classes)"
      ],
      "execution_count": 13,
      "outputs": [
        {
          "output_type": "stream",
          "text": [
            "x_train shape: (60000, 28, 28, 1)\n",
            "60000 train samples\n",
            "10000 test samples\n",
            "Epoch 1/5\n",
            "469/469 [==============================] - 100s 211ms/step - loss: 2.6922 - accuracy: 0.0912 - val_loss: 2.6289 - val_accuracy: 0.1368\n",
            "Epoch 2/5\n",
            "469/469 [==============================] - 96s 204ms/step - loss: 2.6168 - accuracy: 0.1444 - val_loss: 2.5398 - val_accuracy: 0.1321\n",
            "Epoch 3/5\n",
            "469/469 [==============================] - 97s 207ms/step - loss: 2.5308 - accuracy: 0.1834 - val_loss: 2.4281 - val_accuracy: 0.1666\n",
            "Epoch 4/5\n",
            "469/469 [==============================] - 98s 209ms/step - loss: 2.4319 - accuracy: 0.2139 - val_loss: 2.2924 - val_accuracy: 0.3155\n",
            "Epoch 5/5\n",
            "469/469 [==============================] - 102s 217ms/step - loss: 2.3090 - accuracy: 0.2597 - val_loss: 2.1332 - val_accuracy: 0.5181\n",
            "Training time: 0:08:12.908026\n",
            "Test score: 2.133241653442383\n",
            "Test accuracy: 0.5181000232696533\n"
          ],
          "name": "stdout"
        }
      ]
    },
    {
      "cell_type": "code",
      "metadata": {
        "id": "IrOBMYdBJHpm"
      },
      "source": [
        "\n",
        "# freeze feature layers and rebuild model\n",
        "for l in feature_layers:\n",
        "    l.trainable = False"
      ],
      "execution_count": 14,
      "outputs": []
    },
    {
      "cell_type": "markdown",
      "metadata": {
        "id": "whmhRExv4Znj"
      },
      "source": [
        "### A CLASSIFIER"
      ]
    },
    {
      "cell_type": "code",
      "metadata": {
        "id": "cDZj__F94YZG"
      },
      "source": [
        "y_test2 = [\"A\"]"
      ],
      "execution_count": 15,
      "outputs": []
    },
    {
      "cell_type": "code",
      "metadata": {
        "id": "_9Z_je5q4fpZ"
      },
      "source": [
        "from keras.preprocessing.image import load_img\n",
        "from keras.preprocessing.image import img_to_array\n",
        "from keras.models import load_model\n",
        "\n",
        "# load and prepare the image\n",
        "def load_image(filename):\n",
        "    # load the image\n",
        "    img = load_img(filename, grayscale=True, target_size=(28, 28))\n",
        "    # convert to array\n",
        "    img = img_to_array(img)\n",
        "    # reshape into a single sample with 1 channel\n",
        "    img = img.reshape(1, 28, 28, 1)\n",
        "    #  prepare pixel data\n",
        "    img = img.astype('float32')\n",
        "    img = img / 255.0\n",
        "    return img"
      ],
      "execution_count": 16,
      "outputs": []
    },
    {
      "cell_type": "code",
      "metadata": {
        "colab": {
          "base_uri": "https://localhost:8080/"
        },
        "id": "jNJz82GicESZ",
        "outputId": "26d3cb7f-8bef-4c6c-8c27-65499145c038"
      },
      "source": [
        "!pip install pillow\n",
        "from PIL import Image\n",
        "\n",
        "import matplotlib.pyplot as plt\n",
        "import glob\n",
        "\n",
        "from google.colab import drive\n"
      ],
      "execution_count": 17,
      "outputs": [
        {
          "output_type": "stream",
          "text": [
            "Requirement already satisfied: pillow in /usr/local/lib/python3.7/dist-packages (7.0.0)\n"
          ],
          "name": "stdout"
        }
      ]
    },
    {
      "cell_type": "code",
      "metadata": {
        "colab": {
          "base_uri": "https://localhost:8080/"
        },
        "id": "M2-h2DLKgPVM",
        "outputId": "0abecc6f-1113-4505-ca8a-7d5d6f8d59de"
      },
      "source": [
        "drive.mount(\"/content/gdrive\", force_remount=True)\n",
        "\n",
        "#drive.mount('/content/gdrive')\n",
        "root_path = 'gdrive/My Drive/MachineLearning2/'  #change dir to your project folder\n"
      ],
      "execution_count": 18,
      "outputs": [
        {
          "output_type": "stream",
          "text": [
            "Mounted at /content/gdrive\n"
          ],
          "name": "stdout"
        }
      ]
    },
    {
      "cell_type": "code",
      "metadata": {
        "colab": {
          "base_uri": "https://localhost:8080/"
        },
        "id": "YedAda8RcReU",
        "outputId": "7fd506a9-1a86-47ec-eb56-92e129e6b179"
      },
      "source": [
        "training_images = glob.glob('gdrive/My Drive/MachineLearning2/TrainingSet/*')\n",
        "training_images"
      ],
      "execution_count": 19,
      "outputs": [
        {
          "output_type": "execute_result",
          "data": {
            "text/plain": [
              "['gdrive/My Drive/MachineLearning2/TrainingSet/E6.jpg',\n",
              " 'gdrive/My Drive/MachineLearning2/TrainingSet/E5.jpg',\n",
              " 'gdrive/My Drive/MachineLearning2/TrainingSet/E4.jpg',\n",
              " 'gdrive/My Drive/MachineLearning2/TrainingSet/E3.jpg',\n",
              " 'gdrive/My Drive/MachineLearning2/TrainingSet/E2.jpg',\n",
              " 'gdrive/My Drive/MachineLearning2/TrainingSet/D6.jpg',\n",
              " 'gdrive/My Drive/MachineLearning2/TrainingSet/D5.jpg',\n",
              " 'gdrive/My Drive/MachineLearning2/TrainingSet/D4.jpg',\n",
              " 'gdrive/My Drive/MachineLearning2/TrainingSet/D3.jpg',\n",
              " 'gdrive/My Drive/MachineLearning2/TrainingSet/D2.jpg',\n",
              " 'gdrive/My Drive/MachineLearning2/TrainingSet/C6.jpg',\n",
              " 'gdrive/My Drive/MachineLearning2/TrainingSet/C5.jpg',\n",
              " 'gdrive/My Drive/MachineLearning2/TrainingSet/C4.jpg',\n",
              " 'gdrive/My Drive/MachineLearning2/TrainingSet/C3.jpg',\n",
              " 'gdrive/My Drive/MachineLearning2/TrainingSet/C2.jpg',\n",
              " 'gdrive/My Drive/MachineLearning2/TrainingSet/B6.jpg',\n",
              " 'gdrive/My Drive/MachineLearning2/TrainingSet/B5.jpg',\n",
              " 'gdrive/My Drive/MachineLearning2/TrainingSet/B4.jpg',\n",
              " 'gdrive/My Drive/MachineLearning2/TrainingSet/B3.jpg',\n",
              " 'gdrive/My Drive/MachineLearning2/TrainingSet/B2.jpg',\n",
              " 'gdrive/My Drive/MachineLearning2/TrainingSet/A6.jpg',\n",
              " 'gdrive/My Drive/MachineLearning2/TrainingSet/A5.jpg',\n",
              " 'gdrive/My Drive/MachineLearning2/TrainingSet/A4.jpg',\n",
              " 'gdrive/My Drive/MachineLearning2/TrainingSet/A3.jpg',\n",
              " 'gdrive/My Drive/MachineLearning2/TrainingSet/A2.jpg']"
            ]
          },
          "metadata": {
            "tags": []
          },
          "execution_count": 19
        }
      ]
    },
    {
      "cell_type": "code",
      "metadata": {
        "id": "pgNJBv5xzVqc"
      },
      "source": [
        "train_y_let = [14, 14, 14, 14, 14, 13, 13, 13, 13, 13, 12, 12, 12, 12, 12, 11, 11, 11, 11, 11, 10, 10, 10, 10, 10]"
      ],
      "execution_count": 20,
      "outputs": []
    },
    {
      "cell_type": "code",
      "metadata": {
        "id": "rAgk6Pchf9Iy"
      },
      "source": [
        "import numpy as np"
      ],
      "execution_count": 21,
      "outputs": []
    },
    {
      "cell_type": "code",
      "metadata": {
        "colab": {
          "base_uri": "https://localhost:8080/"
        },
        "id": "Nf5H8OfK0GJx",
        "outputId": "c094563c-cbe2-4f6c-be2e-a49ee94beac7"
      },
      "source": [
        "train_y_let = np.array(train_y_let)\n",
        "train_y_let"
      ],
      "execution_count": 22,
      "outputs": [
        {
          "output_type": "execute_result",
          "data": {
            "text/plain": [
              "array([14, 14, 14, 14, 14, 13, 13, 13, 13, 13, 12, 12, 12, 12, 12, 11, 11,\n",
              "       11, 11, 11, 10, 10, 10, 10, 10])"
            ]
          },
          "metadata": {
            "tags": []
          },
          "execution_count": 22
        }
      ]
    },
    {
      "cell_type": "code",
      "metadata": {
        "colab": {
          "base_uri": "https://localhost:8080/"
        },
        "id": "5BTR8LzEed-R",
        "outputId": "722e9c29-ee99-4e7b-eb38-f291057b96f9"
      },
      "source": [
        "testing_images = glob.glob('gdrive/My Drive/MachineLearning2/TestingSet/*')\n",
        "testing_images"
      ],
      "execution_count": 23,
      "outputs": [
        {
          "output_type": "execute_result",
          "data": {
            "text/plain": [
              "['gdrive/My Drive/MachineLearning2/TestingSet/A.jpg',\n",
              " 'gdrive/My Drive/MachineLearning2/TestingSet/B.jpg',\n",
              " 'gdrive/My Drive/MachineLearning2/TestingSet/C.jpg',\n",
              " 'gdrive/My Drive/MachineLearning2/TestingSet/D.jpg',\n",
              " 'gdrive/My Drive/MachineLearning2/TestingSet/E.jpg']"
            ]
          },
          "metadata": {
            "tags": []
          },
          "execution_count": 23
        }
      ]
    },
    {
      "cell_type": "code",
      "metadata": {
        "id": "mKmiDjpt0SCA"
      },
      "source": [
        "test_y_let = [10, 11, 12, 13, 14]"
      ],
      "execution_count": 24,
      "outputs": []
    },
    {
      "cell_type": "code",
      "metadata": {
        "id": "4r7bdU2Y0fgy"
      },
      "source": [
        "test_y_let = np.array(test_y_let)"
      ],
      "execution_count": 26,
      "outputs": []
    },
    {
      "cell_type": "code",
      "metadata": {
        "colab": {
          "base_uri": "https://localhost:8080/",
          "height": 286
        },
        "id": "nEfxokw3ikUa",
        "outputId": "39842baf-325d-4c4f-fed5-77bc46040bc7"
      },
      "source": [
        "size = (28,28)\n",
        "im = Image.open(training_images[0])\n",
        "plt.imshow(im)"
      ],
      "execution_count": 27,
      "outputs": [
        {
          "output_type": "execute_result",
          "data": {
            "text/plain": [
              "<matplotlib.image.AxesImage at 0x7f82a1afd0d0>"
            ]
          },
          "metadata": {
            "tags": []
          },
          "execution_count": 27
        },
        {
          "output_type": "display_data",
          "data": {
            "image/png": "[encoded data removed]",
            "text/plain": [
              "<Figure size 432x288 with 1 Axes>"
            ]
          },
          "metadata": {
            "tags": [],
            "needs_background": "light"
          }
        }
      ]
    },
    {
      "cell_type": "code",
      "metadata": {
        "colab": {
          "base_uri": "https://localhost:8080/",
          "height": 282
        },
        "id": "DiSzip0oisCG",
        "outputId": "fa9efc18-a30a-45de-c548-f375a29daf99"
      },
      "source": [
        "im = im.resize(size)\n",
        "plt.imshow(im)"
      ],
      "execution_count": 28,
      "outputs": [
        {
          "output_type": "execute_result",
          "data": {
            "text/plain": [
              "<matplotlib.image.AxesImage at 0x7f82a15f9150>"
            ]
          },
          "metadata": {
            "tags": []
          },
          "execution_count": 28
        },
        {
          "output_type": "display_data",
          "data": {
            "image/png": "[encoded data removed]",
            "text/plain": [
              "<Figure size 432x288 with 1 Axes>"
            ]
          },
          "metadata": {
            "tags": [],
            "needs_background": "light"
          }
        }
      ]
    },
    {
      "cell_type": "code",
      "metadata": {
        "colab": {
          "base_uri": "https://localhost:8080/",
          "height": 282
        },
        "id": "SYpSDXkLitFm",
        "outputId": "61704c1f-0410-4a18-a23d-832b74210a26"
      },
      "source": [
        "im = im.convert(\"L\")\n",
        "plt.imshow(im)"
      ],
      "execution_count": 29,
      "outputs": [
        {
          "output_type": "execute_result",
          "data": {
            "text/plain": [
              "<matplotlib.image.AxesImage at 0x7f82a1563ad0>"
            ]
          },
          "metadata": {
            "tags": []
          },
          "execution_count": 29
        },
        {
          "output_type": "display_data",
          "data": {
            "image/png": "[encoded data removed]",
            "text/plain": [
              "<Figure size 432x288 with 1 Axes>"
            ]
          },
          "metadata": {
            "tags": [],
            "needs_background": "light"
          }
        }
      ]
    },
    {
      "cell_type": "code",
      "metadata": {
        "id": "Mn6fIecyi5bt"
      },
      "source": [
        "import numpy as np\n",
        "from sklearn.utils import shuffle\n",
        "from sklearn.metrics import accuracy_score\n",
        "import matplotlib.pyplot as plt\n",
        "\n",
        "import tensorflow as tf\n",
        "from tensorflow import keras\n",
        "from tensorflow.keras import Sequential"
      ],
      "execution_count": 30,
      "outputs": []
    },
    {
      "cell_type": "code",
      "metadata": {
        "colab": {
          "base_uri": "https://localhost:8080/"
        },
        "id": "vimvz9qpiyce",
        "outputId": "f42078bf-d175-4c8b-9e27-0d34db514444"
      },
      "source": [
        "im = np.array(im)\n",
        "im"
      ],
      "execution_count": 31,
      "outputs": [
        {
          "output_type": "execute_result",
          "data": {
            "text/plain": [
              "array([[168, 168, 167, 165, 165, 165, 165, 164, 161, 162, 164, 164, 165,\n",
              "        167, 164, 158, 160, 164, 166, 166, 166, 171, 172, 174, 176, 178,\n",
              "        182, 189],\n",
              "       [168, 168, 166, 167, 165, 164, 164, 163, 162, 162, 163, 161, 164,\n",
              "        165, 164, 161, 159, 162, 165, 165, 166, 169, 173, 173, 175, 177,\n",
              "        180, 185],\n",
              "       [167, 166, 165, 166, 164, 164, 163, 164, 162, 163, 163, 162, 163,\n",
              "        165, 165, 163, 159, 161, 162, 163, 164, 167, 170, 172, 172, 176,\n",
              "        178, 182],\n",
              "       [166, 165, 165, 165, 165, 164, 163, 163, 162, 163, 164, 163, 164,\n",
              "        166, 165, 163, 160, 160, 162, 161, 163, 166, 169, 170, 171, 175,\n",
              "        177, 182],\n",
              "       [166, 166, 164, 164, 165, 164, 163, 163, 163, 162, 162, 162, 164,\n",
              "        165, 165, 164, 160, 159, 161, 160, 161, 165, 169, 169, 169, 173,\n",
              "        176, 180],\n",
              "       [165, 165, 165, 164, 165, 164, 163, 163, 163, 162, 162, 162, 165,\n",
              "        166, 166, 165, 166, 162, 162, 160, 160, 162, 165, 166, 166, 169,\n",
              "        173, 177],\n",
              "       [165, 165, 165, 165, 164, 163, 162, 161, 161, 162, 161, 163, 164,\n",
              "        165, 164, 163, 166, 166, 165, 164, 160, 159, 162, 165, 165, 168,\n",
              "        171, 176],\n",
              "       [165, 166, 166, 166, 163, 163, 162, 161, 161, 162, 162, 162, 162,\n",
              "        164, 163, 145, 161, 166, 165, 169, 166, 159, 161, 164, 163, 166,\n",
              "        170, 175],\n",
              "       [163, 164, 165, 165, 164, 162, 162, 161, 161, 162, 162, 162, 162,\n",
              "        164, 140, 146, 164, 165, 165, 168, 169, 164, 160, 163, 163, 165,\n",
              "        169, 173],\n",
              "       [163, 163, 164, 164, 162, 162, 162, 160, 160, 161, 160, 163, 145,\n",
              "        126, 145, 162, 160, 162, 164, 165, 167, 167, 164, 163, 163, 166,\n",
              "        169, 172],\n",
              "       [163, 162, 163, 165, 162, 161, 162, 160, 160, 161, 161, 163, 144,\n",
              "        150, 164, 160, 160, 161, 164, 165, 166, 167, 165, 163, 163, 165,\n",
              "        168, 170],\n",
              "       [162, 162, 162, 165, 160, 158, 160, 161, 160, 161, 162, 163, 144,\n",
              "        154, 138, 156, 161, 162, 165, 164, 165, 165, 166, 164, 164, 166,\n",
              "        167, 169],\n",
              "       [162, 161, 163, 165, 162, 158, 160, 161, 160, 162, 162, 163, 123,\n",
              "        134, 153, 161, 160, 162, 163, 163, 163, 164, 165, 164, 163, 167,\n",
              "        167, 168],\n",
              "       [161, 161, 162, 163, 160, 158, 159, 161, 160, 161, 162, 161, 144,\n",
              "        166, 165, 163, 161, 161, 162, 162, 162, 164, 164, 164, 164, 166,\n",
              "        167, 171],\n",
              "       [161, 161, 162, 162, 160, 158, 158, 160, 161, 160, 161, 155, 148,\n",
              "        165, 151, 143, 160, 161, 162, 161, 162, 163, 164, 165, 165, 167,\n",
              "        168, 170],\n",
              "       [161, 161, 162, 162, 161, 159, 158, 160, 161, 161, 162, 149, 129,\n",
              "        134, 139, 158, 160, 161, 162, 162, 161, 161, 163, 165, 165, 167,\n",
              "        167, 169],\n",
              "       [161, 162, 163, 162, 160, 159, 158, 159, 160, 160, 160, 160, 153,\n",
              "        160, 164, 161, 159, 159, 162, 162, 161, 161, 163, 164, 163, 166,\n",
              "        166, 168],\n",
              "       [161, 162, 163, 162, 158, 157, 156, 158, 158, 159, 158, 158, 163,\n",
              "        162, 161, 160, 158, 159, 161, 161, 161, 162, 163, 164, 164, 165,\n",
              "        168, 169],\n",
              "       [161, 162, 162, 161, 159, 158, 157, 158, 158, 159, 157, 160, 160,\n",
              "        161, 159, 160, 159, 159, 160, 160, 159, 161, 161, 163, 163, 164,\n",
              "        167, 169],\n",
              "       [162, 161, 162, 160, 158, 158, 157, 156, 157, 158, 157, 158, 159,\n",
              "        160, 159, 159, 159, 158, 159, 160, 160, 160, 161, 162, 161, 163,\n",
              "        166, 170],\n",
              "       [160, 161, 162, 160, 155, 157, 157, 155, 156, 158, 156, 157, 157,\n",
              "        158, 157, 158, 158, 157, 158, 159, 160, 159, 160, 162, 161, 162,\n",
              "        166, 170],\n",
              "       [160, 160, 162, 160, 155, 158, 157, 155, 157, 158, 158, 157, 157,\n",
              "        158, 156, 158, 157, 156, 157, 159, 160, 159, 161, 162, 162, 162,\n",
              "        166, 169],\n",
              "       [160, 160, 161, 161, 157, 159, 158, 156, 157, 158, 157, 156, 157,\n",
              "        158, 157, 157, 156, 155, 158, 158, 159, 159, 160, 161, 161, 162,\n",
              "        166, 168],\n",
              "       [160, 160, 160, 161, 157, 158, 158, 157, 157, 157, 157, 156, 156,\n",
              "        157, 157, 157, 156, 156, 157, 159, 159, 160, 160, 161, 161, 163,\n",
              "        167, 169],\n",
              "       [159, 161, 162, 162, 158, 159, 160, 159, 158, 158, 158, 156, 156,\n",
              "        158, 158, 157, 157, 157, 158, 160, 160, 160, 160, 161, 162, 165,\n",
              "        169, 172],\n",
              "       [160, 161, 162, 163, 159, 159, 160, 159, 159, 159, 158, 157, 158,\n",
              "        159, 158, 158, 158, 159, 159, 160, 160, 161, 160, 162, 162, 166,\n",
              "        169, 173],\n",
              "       [161, 161, 163, 163, 160, 161, 160, 159, 158, 159, 158, 159, 158,\n",
              "        158, 159, 159, 158, 159, 160, 160, 160, 161, 161, 162, 164, 166,\n",
              "        170, 172],\n",
              "       [160, 162, 164, 162, 161, 161, 161, 161, 159, 158, 159, 160, 159,\n",
              "        159, 159, 159, 158, 160, 161, 159, 160, 161, 162, 163, 166, 166,\n",
              "        169, 172]], dtype=uint8)"
            ]
          },
          "metadata": {
            "tags": []
          },
          "execution_count": 31
        }
      ]
    },
    {
      "cell_type": "code",
      "metadata": {
        "colab": {
          "base_uri": "https://localhost:8080/"
        },
        "id": "SOJTVXBVjLnR",
        "outputId": "b0484ffb-baea-4dc3-8644-3a2f53b35f33"
      },
      "source": [
        "print(im.shape)"
      ],
      "execution_count": 32,
      "outputs": [
        {
          "output_type": "stream",
          "text": [
            "(28, 28)\n"
          ],
          "name": "stdout"
        }
      ]
    },
    {
      "cell_type": "code",
      "metadata": {
        "id": "z8KmqbLnjcK0"
      },
      "source": [
        "# load each image, run the initial conversion steps, combine in a list\n",
        "new_images = []\n",
        "new_size = (28,28)\n",
        "for im in training_images:\n",
        "  im = Image.open(im).convert(\"L\").resize(new_size)\n",
        "  new_images.append(np.array(im))"
      ],
      "execution_count": 33,
      "outputs": []
    },
    {
      "cell_type": "code",
      "metadata": {
        "colab": {
          "base_uri": "https://localhost:8080/"
        },
        "id": "iRjnS3Kgjzu8",
        "outputId": "aa9fda43-288a-4f93-9c84-effaf8e880bd"
      },
      "source": [
        "# \"stack\" the arrays\n",
        "x_train_let = np.stack(new_images)\n",
        "print(x_train_let.shape)"
      ],
      "execution_count": 34,
      "outputs": [
        {
          "output_type": "stream",
          "text": [
            "(25, 28, 28)\n"
          ],
          "name": "stdout"
        }
      ]
    },
    {
      "cell_type": "code",
      "metadata": {
        "colab": {
          "base_uri": "https://localhost:8080/"
        },
        "id": "ksHg30VKkCKU",
        "outputId": "b6987a15-6868-4691-c392-2bef8f153d80"
      },
      "source": [
        "# as done in mnist add the color channel\n",
        "x_train_let = x_train_let.reshape((25,28,28,1))\n",
        "x_train_let.shape"
      ],
      "execution_count": 35,
      "outputs": [
        {
          "output_type": "execute_result",
          "data": {
            "text/plain": [
              "(25, 28, 28, 1)"
            ]
          },
          "metadata": {
            "tags": []
          },
          "execution_count": 35
        }
      ]
    },
    {
      "cell_type": "markdown",
      "metadata": {
        "id": "lFFouJSbkGa6"
      },
      "source": [
        "### Set up the Xtest"
      ]
    },
    {
      "cell_type": "code",
      "metadata": {
        "colab": {
          "base_uri": "https://localhost:8080/",
          "height": 286
        },
        "id": "pw0LOPZykFAf",
        "outputId": "0997e8f6-a9c2-4244-d72a-40b7ca5a3cb7"
      },
      "source": [
        "size = (28,28)\n",
        "im = Image.open(testing_images[0])\n",
        "plt.imshow(im)"
      ],
      "execution_count": 36,
      "outputs": [
        {
          "output_type": "execute_result",
          "data": {
            "text/plain": [
              "<matplotlib.image.AxesImage at 0x7f8299df5e10>"
            ]
          },
          "metadata": {
            "tags": []
          },
          "execution_count": 36
        },
        {
          "output_type": "display_data",
          "data": {
            "image/png": "[encoded data removed]",
            "text/plain": [
              "<Figure size 432x288 with 1 Axes>"
            ]
          },
          "metadata": {
            "tags": [],
            "needs_background": "light"
          }
        }
      ]
    },
    {
      "cell_type": "code",
      "metadata": {
        "colab": {
          "base_uri": "https://localhost:8080/",
          "height": 282
        },
        "id": "StcrFSwSkNaW",
        "outputId": "5157cc8c-6980-463e-dd16-3514c807326d"
      },
      "source": [
        "im = im.resize(size)\n",
        "plt.imshow(im)"
      ],
      "execution_count": 37,
      "outputs": [
        {
          "output_type": "execute_result",
          "data": {
            "text/plain": [
              "<matplotlib.image.AxesImage at 0x7f8299d699d0>"
            ]
          },
          "metadata": {
            "tags": []
          },
          "execution_count": 37
        },
        {
          "output_type": "display_data",
          "data": {
            "image/png": "[encoded data removed]",
            "text/plain": [
              "<Figure size 432x288 with 1 Axes>"
            ]
          },
          "metadata": {
            "tags": [],
            "needs_background": "light"
          }
        }
      ]
    },
    {
      "cell_type": "code",
      "metadata": {
        "colab": {
          "base_uri": "https://localhost:8080/",
          "height": 282
        },
        "id": "XkIxt8hJkRUQ",
        "outputId": "a077faf4-a6f8-4df0-9799-cae262dc8403"
      },
      "source": [
        "im = im.convert(\"L\")\n",
        "plt.imshow(im)"
      ],
      "execution_count": 38,
      "outputs": [
        {
          "output_type": "execute_result",
          "data": {
            "text/plain": [
              "<matplotlib.image.AxesImage at 0x7f8299cda050>"
            ]
          },
          "metadata": {
            "tags": []
          },
          "execution_count": 38
        },
        {
          "output_type": "display_data",
          "data": {
            "image/png": "[encoded data removed]",
            "text/plain": [
              "<Figure size 432x288 with 1 Axes>"
            ]
          },
          "metadata": {
            "tags": [],
            "needs_background": "light"
          }
        }
      ]
    },
    {
      "cell_type": "code",
      "metadata": {
        "colab": {
          "base_uri": "https://localhost:8080/"
        },
        "id": "nHbyq9SMkRRK",
        "outputId": "b424d5eb-d229-4325-8aec-8eb2df034baf"
      },
      "source": [
        "im = np.array(im)\n",
        "im"
      ],
      "execution_count": 39,
      "outputs": [
        {
          "output_type": "execute_result",
          "data": {
            "text/plain": [
              "array([[164, 164, 162, 162, 162, 162, 164, 164, 162, 160, 161, 162, 162,\n",
              "        163, 162, 160, 160, 162, 163, 163, 163, 165, 167, 167, 167, 168,\n",
              "        168, 169],\n",
              "       [161, 162, 161, 161, 161, 160, 163, 163, 161, 161, 162, 162, 161,\n",
              "        160, 158, 159, 161, 162, 163, 163, 163, 164, 165, 166, 168, 168,\n",
              "        169, 168],\n",
              "       [162, 159, 158, 158, 159, 159, 161, 161, 160, 161, 163, 163, 161,\n",
              "        160, 157, 158, 160, 160, 163, 163, 163, 165, 164, 167, 170, 170,\n",
              "        168, 167],\n",
              "       [161, 159, 157, 157, 158, 158, 160, 161, 161, 161, 163, 162, 162,\n",
              "        161, 161, 158, 158, 159, 162, 163, 164, 164, 164, 168, 170, 169,\n",
              "        169, 168],\n",
              "       [160, 159, 159, 160, 159, 159, 159, 160, 161, 160, 162, 162, 162,\n",
              "        158, 135, 158, 159, 159, 162, 163, 163, 163, 163, 167, 168, 169,\n",
              "        169, 169],\n",
              "       [159, 158, 158, 159, 158, 155, 157, 159, 160, 161, 161, 161, 164,\n",
              "        133,  48, 132, 162, 161, 161, 162, 162, 164, 164, 167, 168, 170,\n",
              "        170, 169],\n",
              "       [159, 157, 157, 158, 158, 158, 157, 157, 158, 160, 159, 159, 161,\n",
              "        105,  98,  81, 156, 160, 159, 160, 162, 164, 165, 165, 168, 169,\n",
              "        170, 169],\n",
              "       [159, 158, 157, 158, 157, 158, 157, 156, 156, 157, 158, 158, 151,\n",
              "         90, 155,  77, 132, 161, 159, 159, 161, 164, 163, 164, 167, 168,\n",
              "        168, 168],\n",
              "       [158, 156, 158, 158, 155, 154, 155, 155, 155, 158, 158, 160, 125,\n",
              "        106, 166, 109,  97, 164, 161, 160, 159, 163, 164, 164, 166, 166,\n",
              "        166, 166],\n",
              "       [157, 155, 158, 159, 157, 156, 155, 155, 155, 156, 157, 157,  95,\n",
              "        133, 162, 146,  72, 151, 162, 160, 161, 163, 165, 163, 166, 168,\n",
              "        165, 165],\n",
              "       [157, 156, 157, 158, 158, 155, 154, 155, 155, 155, 156, 146,  82,\n",
              "        149, 158, 164,  82, 117, 164, 160, 159, 162, 165, 164, 166, 167,\n",
              "        163, 167],\n",
              "       [157, 156, 156, 156, 157, 155, 154, 154, 155, 154, 157, 124,  93,\n",
              "        156, 155, 161, 118,  77, 159, 159, 160, 161, 163, 165, 166, 166,\n",
              "        164, 166],\n",
              "       [159, 156, 157, 156, 156, 153, 152, 153, 155, 155, 158, 103, 109,\n",
              "        156, 154, 157, 153,  67, 130, 161, 160, 161, 163, 162, 164, 165,\n",
              "        164, 166],\n",
              "       [159, 157, 155, 154, 155, 152, 151, 152, 154, 153, 156,  86, 129,\n",
              "        155, 155, 158, 163, 108,  82, 160, 160, 161, 161, 160, 164, 166,\n",
              "        165, 167],\n",
              "       [158, 156, 153, 153, 154, 151, 151, 151, 153, 154, 146,  79, 137,\n",
              "        129, 128, 132, 141, 130,  55, 118, 162, 160, 159, 160, 163, 166,\n",
              "        164, 166],\n",
              "       [159, 158, 155, 154, 154, 151, 149, 150, 152, 155, 125,  85, 129,\n",
              "        113, 116, 105, 110, 110,  85,  63, 154, 161, 160, 160, 162, 164,\n",
              "        163, 163],\n",
              "       [160, 158, 156, 155, 153, 151, 150, 150, 150, 154, 100, 109, 155,\n",
              "        154, 156, 157, 157, 158, 159,  76, 115, 165, 160, 160, 161, 164,\n",
              "        161, 164],\n",
              "       [159, 157, 156, 154, 151, 150, 150, 148, 149, 150,  78, 128, 153,\n",
              "        152, 154, 154, 154, 154, 162, 118,  74, 157, 161, 161, 163, 163,\n",
              "        160, 165],\n",
              "       [159, 156, 154, 153, 151, 149, 149, 148, 151, 140,  66, 142, 151,\n",
              "        152, 153, 154, 155, 156, 158, 154,  70, 128, 163, 161, 162, 162,\n",
              "        160, 164],\n",
              "       [156, 154, 153, 153, 150, 149, 149, 150, 153, 118,  82, 149, 147,\n",
              "        150, 154, 153, 155, 157, 158, 163, 101,  90, 161, 161, 162, 161,\n",
              "        161, 165],\n",
              "       [153, 152, 152, 150, 149, 147, 147, 149, 154,  82, 115, 146, 148,\n",
              "        150, 152, 153, 154, 157, 158, 159, 144,  73, 123, 161, 159, 160,\n",
              "        160, 164],\n",
              "       [153, 153, 152, 150, 149, 148, 148, 148, 134,  72, 139, 143, 148,\n",
              "        149, 150, 152, 154, 154, 156, 156, 159, 116, 104, 157, 160, 162,\n",
              "        162, 163],\n",
              "       [153, 153, 153, 150, 147, 148, 148, 147,  93, 115, 147, 143, 148,\n",
              "        149, 151, 151, 151, 152, 154, 156, 158, 158, 155, 159, 160, 164,\n",
              "        162, 164],\n",
              "       [151, 153, 152, 150, 147, 148, 149, 146, 133, 149, 147, 144, 148,\n",
              "        149, 151, 152, 151, 152, 153, 154, 157, 159, 160, 160, 162, 164,\n",
              "        164, 164],\n",
              "       [151, 153, 152, 151, 148, 147, 148, 148, 149, 146, 145, 145, 148,\n",
              "        149, 151, 152, 152, 155, 154, 153, 156, 158, 158, 158, 161, 164,\n",
              "        165, 163],\n",
              "       [152, 154, 153, 151, 147, 147, 149, 148, 147, 144, 146, 148, 150,\n",
              "        151, 152, 152, 151, 155, 156, 155, 155, 158, 158, 159, 161, 164,\n",
              "        163, 162],\n",
              "       [154, 153, 151, 150, 148, 148, 150, 147, 147, 145, 146, 151, 150,\n",
              "        150, 153, 152, 151, 154, 155, 154, 156, 158, 159, 158, 159, 162,\n",
              "        161, 161],\n",
              "       [152, 151, 150, 149, 148, 148, 148, 147, 145, 146, 148, 150, 150,\n",
              "        151, 153, 152, 150, 153, 154, 155, 157, 159, 158, 158, 160, 160,\n",
              "        158, 159]], dtype=uint8)"
            ]
          },
          "metadata": {
            "tags": []
          },
          "execution_count": 39
        }
      ]
    },
    {
      "cell_type": "code",
      "metadata": {
        "colab": {
          "base_uri": "https://localhost:8080/"
        },
        "id": "tVoTDkhYkacR",
        "outputId": "5e6dd47e-9db7-4a34-9715-4ef4c6958a57"
      },
      "source": [
        "print(im.shape)"
      ],
      "execution_count": 40,
      "outputs": [
        {
          "output_type": "stream",
          "text": [
            "(28, 28)\n"
          ],
          "name": "stdout"
        }
      ]
    },
    {
      "cell_type": "code",
      "metadata": {
        "id": "S_SZ4k6TkaZo"
      },
      "source": [
        "# load each image, run the initial conversion steps, combine in a list\n",
        "new_images = []\n",
        "new_size = (28,28)\n",
        "for im in testing_images:\n",
        "  im = Image.open(im).convert(\"L\").resize(new_size)\n",
        "  new_images.append(np.array(im))"
      ],
      "execution_count": 41,
      "outputs": []
    },
    {
      "cell_type": "code",
      "metadata": {
        "colab": {
          "base_uri": "https://localhost:8080/"
        },
        "id": "s4CgSqYwkaWy",
        "outputId": "6c9b660b-e2c4-486f-8520-c06a234f9137"
      },
      "source": [
        "# \"stack\" the arrays\n",
        "x_test_let = np.stack(new_images)\n",
        "print(x_test_let.shape)"
      ],
      "execution_count": 42,
      "outputs": [
        {
          "output_type": "stream",
          "text": [
            "(5, 28, 28)\n"
          ],
          "name": "stdout"
        }
      ]
    },
    {
      "cell_type": "code",
      "metadata": {
        "colab": {
          "base_uri": "https://localhost:8080/"
        },
        "id": "bSQHfbzokaTt",
        "outputId": "69a6c4a8-3b18-4f63-c15c-65aa52b061d6"
      },
      "source": [
        "# as done in mnist add the color channel\n",
        "x_test_let = x_test_let.reshape((5,28,28,1))\n",
        "x_test_let.shape"
      ],
      "execution_count": 43,
      "outputs": [
        {
          "output_type": "execute_result",
          "data": {
            "text/plain": [
              "(5, 28, 28, 1)"
            ]
          },
          "metadata": {
            "tags": []
          },
          "execution_count": 43
        }
      ]
    },
    {
      "cell_type": "code",
      "metadata": {
        "id": "Y1hbpcevkrLK"
      },
      "source": [
        ""
      ],
      "execution_count": 43,
      "outputs": []
    },
    {
      "cell_type": "code",
      "metadata": {
        "id": "J5f-KlwjkROB"
      },
      "source": [
        ""
      ],
      "execution_count": 43,
      "outputs": []
    },
    {
      "cell_type": "code",
      "metadata": {
        "id": "NIxb7Hb5M8GE",
        "colab": {
          "base_uri": "https://localhost:8080/"
        },
        "outputId": "3d75e828-e2d1-40b3-d13a-bac64b13b7ef"
      },
      "source": [
        "train_model(model,\n",
        "            ((x_train_let, train_y_let)),\n",
        "            (x_test_let, test_y_let), num_classes)"
      ],
      "execution_count": 44,
      "outputs": [
        {
          "output_type": "stream",
          "text": [
            "x_train shape: (25, 28, 28, 1)\n",
            "25 train samples\n",
            "5 test samples\n",
            "Epoch 1/5\n",
            "1/1 [==============================] - 1s 767ms/step - loss: 4.0991 - accuracy: 0.0000e+00 - val_loss: 3.8218 - val_accuracy: 0.0000e+00\n",
            "Epoch 2/5\n",
            "1/1 [==============================] - 0s 89ms/step - loss: 4.3507 - accuracy: 0.0000e+00 - val_loss: 3.8196 - val_accuracy: 0.0000e+00\n",
            "Epoch 3/5\n",
            "1/1 [==============================] - 0s 76ms/step - loss: 4.0737 - accuracy: 0.0000e+00 - val_loss: 3.8177 - val_accuracy: 0.0000e+00\n",
            "Epoch 4/5\n",
            "1/1 [==============================] - 0s 76ms/step - loss: 4.2387 - accuracy: 0.0000e+00 - val_loss: 3.8156 - val_accuracy: 0.0000e+00\n",
            "Epoch 5/5\n",
            "1/1 [==============================] - 0s 77ms/step - loss: 4.0768 - accuracy: 0.0000e+00 - val_loss: 3.8135 - val_accuracy: 0.0000e+00\n",
            "Training time: 0:00:01.156775\n",
            "Test score: 3.813523769378662\n",
            "Test accuracy: 0.0\n"
          ],
          "name": "stdout"
        }
      ]
    },
    {
      "cell_type": "markdown",
      "metadata": {
        "id": "KNHOJGSggJhu"
      },
      "source": [
        "# Stuart Method"
      ]
    },
    {
      "cell_type": "code",
      "metadata": {
        "id": "U1o9Xkt33Em_"
      },
      "source": [
        "import numpy as np\n",
        "from sklearn.utils import shuffle\n",
        "from sklearn.metrics import accuracy_score\n",
        "import matplotlib.pyplot as plt\n",
        "\n",
        "import tensorflow as tf\n",
        "from tensorflow import keras\n",
        "from tensorflow.keras import Sequential, Model"
      ],
      "execution_count": 45,
      "outputs": []
    },
    {
      "cell_type": "code",
      "metadata": {
        "id": "j8IDNFwm3zog"
      },
      "source": [
        "def plot_training_curves(history, title = None):\n",
        "  '''Plot the training curves for loss and accuracy given a model history\n",
        "  '''\n",
        "  # find the minimum loss epoch\n",
        "  minimum = np.min(history.history['val_loss'])\n",
        "  min_loc = np.where(minimum == history.history['val_loss'])[0]\n",
        "  # get the vline y-min and y-max\n",
        "  loss_min, loss_max = (min(history.history['val_loss'] + history.history['loss']),\n",
        "                        max(history.history['val_loss'] + history.history['loss']))\n",
        "  acc_min, acc_max = (min(history.history['val_accuracy'] + history.history['accuracy']),\n",
        "                      max(history.history['val_accuracy'] + history.history['accuracy']))\n",
        "  # create figure\n",
        "  fig, ax = plt.subplots(ncols = 2, figsize = (15, 7))\n",
        "  fig.suptitle(title)\n",
        "  index = np.arange(1, len(history.history['accuracy']) + 1)\n",
        "  # plot the loss and validation loss\n",
        "  ax[0].plot(index, history.history['loss'], label = 'loss')\n",
        "  ax[0].plot(index, history.history['val_loss'], label = 'val_loss')\n",
        "  ax[0].vlines(min_loc + 1, loss_min, loss_max, label = 'min_loss_location')\n",
        "  ax[0].set_title('Loss')\n",
        "  ax[0].set_ylabel('Loss')\n",
        "  ax[0].set_xlabel('Epochs')\n",
        "  ax[0].legend()\n",
        "  # plot the accuracy and validation accuracy\n",
        "  ax[1].plot(index, history.history['accuracy'], label = 'accuracy')\n",
        "  ax[1].plot(index, history.history['val_accuracy'], label = 'val_accuracy')\n",
        "  ax[1].vlines(min_loc + 1, acc_min, acc_max, label = 'min_loss_location')\n",
        "  ax[1].set_title('Accuracy')\n",
        "  ax[1].set_ylabel('Accuracy')\n",
        "  ax[1].set_xlabel('Epochs')\n",
        "  ax[1].legend()\n",
        "  plt.show()\n",
        "\n",
        "  \n",
        "\n",
        "  "
      ],
      "execution_count": 46,
      "outputs": []
    },
    {
      "cell_type": "code",
      "metadata": {
        "id": "jaZey0MrmFmD"
      },
      "source": [
        "x_train = x_train / 255.\n",
        "x_train_let = x_train_let / 255."
      ],
      "execution_count": 47,
      "outputs": []
    },
    {
      "cell_type": "code",
      "metadata": {
        "id": "JY6GK77z4R41"
      },
      "source": [
        "#reshape to add color channel\n",
        "x_train = x_train.reshape(x_train.shape + (1,))\n",
        "x_test = x_test.reshape(x_test.shape + (1,))\n",
        "x_train_let = x_train_let.reshape(x_train_let.shape + (1,))\n",
        "x_test_let = x_test_let.reshape(x_test_let.shape + (1,))"
      ],
      "execution_count": 48,
      "outputs": []
    },
    {
      "cell_type": "code",
      "metadata": {
        "id": "Rq9VLeWO4JgK",
        "colab": {
          "base_uri": "https://localhost:8080/"
        },
        "outputId": "27420413-51d4-4eb4-cae6-6b2afeb918ba"
      },
      "source": [
        "num_classes = 15\n",
        "filters = 32\n",
        "pool_size = 2\n",
        "kernel_size = 3\n",
        "dropout = 0.2\n",
        "input_shape = (28,28,1)\n",
        "\n",
        "model = Sequential([\n",
        "      # convolutional feature extraction\n",
        "      # ConvNet 1\n",
        "      keras.layers.Conv2D(filters, kernel_size, padding = 'valid',\n",
        "                          activation = 'relu',\n",
        "                          input_shape = input_shape),\n",
        "      keras.layers.MaxPooling2D(pool_size = pool_size),\n",
        "\n",
        "      # ConvNet 2\n",
        "      keras.layers.Conv2D(filters, kernel_size,\n",
        "                          padding = 'valid',\n",
        "                          activation = 'relu'),\n",
        "      keras.layers.MaxPooling2D(pool_size = pool_size),\n",
        "\n",
        "      # classification\n",
        "      # will retrain from here\n",
        "      keras.layers.Flatten(name = 'flatten'),\n",
        "\n",
        "      keras.layers.Dropout(dropout),\n",
        "      keras.layers.Dense(128, activation='relu'),\n",
        "\n",
        "      keras.layers.Dropout(dropout, name='penult'),\n",
        "      keras.layers.Dense(num_classes, activation = 'softmax', name = 'last')\n",
        "  ])\n",
        "\n",
        "es = keras.callbacks.EarlyStopping(min_delta=0.001, patience=2)\n",
        "\n",
        "model.compile(loss='sparse_categorical_crossentropy',\n",
        "              optimizer = 'adam',\n",
        "              metrics = ['accuracy'])\n",
        "\n",
        "history = model.fit(x_train, y_train,\n",
        "                    validation_data=(x_test, y_test),\n",
        "                    batch_size=32,\n",
        "                    epochs=1000,\n",
        "                    callbacks=[es])"
      ],
      "execution_count": 49,
      "outputs": [
        {
          "output_type": "stream",
          "text": [
            "Epoch 1/1000\n",
            "1875/1875 [==============================] - 48s 25ms/step - loss: 0.4041 - accuracy: 0.8724 - val_loss: 6.4950 - val_accuracy: 0.9836\n",
            "Epoch 2/1000\n",
            "1875/1875 [==============================] - 45s 24ms/step - loss: 0.0723 - accuracy: 0.9780 - val_loss: 9.6756 - val_accuracy: 0.9805\n",
            "Epoch 3/1000\n",
            "1875/1875 [==============================] - 46s 25ms/step - loss: 0.0474 - accuracy: 0.9856 - val_loss: 6.5021 - val_accuracy: 0.9849\n"
          ],
          "name": "stdout"
        }
      ]
    },
    {
      "cell_type": "code",
      "metadata": {
        "colab": {
          "base_uri": "https://localhost:8080/",
          "height": 458
        },
        "id": "Qa2Dc2Gv39Sk",
        "outputId": "d6b47da2-9b51-4482-ecaf-d12695077938"
      },
      "source": [
        "plot_training_curves(history=history)"
      ],
      "execution_count": 50,
      "outputs": [
        {
          "output_type": "display_data",
          "data": {
            "image/png": "[encoded data removed]",
            "text/plain": [
              "<Figure size 1080x504 with 2 Axes>"
            ]
          },
          "metadata": {
            "tags": [],
            "needs_background": "light"
          }
        }
      ]
    },
    {
      "cell_type": "code",
      "metadata": {
        "colab": {
          "base_uri": "https://localhost:8080/"
        },
        "id": "9RUaZYkH7PUf",
        "outputId": "6ca96b68-7324-40e8-9447-3bc6e8598990"
      },
      "source": [
        "model.summary()"
      ],
      "execution_count": 51,
      "outputs": [
        {
          "output_type": "stream",
          "text": [
            "Model: \"sequential_1\"\n",
            "_________________________________________________________________\n",
            "Layer (type)                 Output Shape              Param #   \n",
            "=================================================================\n",
            "conv2d_2 (Conv2D)            (None, 26, 26, 32)        320       \n",
            "_________________________________________________________________\n",
            "max_pooling2d_1 (MaxPooling2 (None, 13, 13, 32)        0         \n",
            "_________________________________________________________________\n",
            "conv2d_3 (Conv2D)            (None, 11, 11, 32)        9248      \n",
            "_________________________________________________________________\n",
            "max_pooling2d_2 (MaxPooling2 (None, 5, 5, 32)          0         \n",
            "_________________________________________________________________\n",
            "flatten (Flatten)            (None, 800)               0         \n",
            "_________________________________________________________________\n",
            "dropout_2 (Dropout)          (None, 800)               0         \n",
            "_________________________________________________________________\n",
            "dense_2 (Dense)              (None, 128)               102528    \n",
            "_________________________________________________________________\n",
            "penult (Dropout)             (None, 128)               0         \n",
            "_________________________________________________________________\n",
            "last (Dense)                 (None, 15)                1935      \n",
            "=================================================================\n",
            "Total params: 114,031\n",
            "Trainable params: 114,031\n",
            "Non-trainable params: 0\n",
            "_________________________________________________________________\n"
          ],
          "name": "stdout"
        }
      ]
    },
    {
      "cell_type": "code",
      "metadata": {
        "colab": {
          "base_uri": "https://localhost:8080/"
        },
        "id": "xxDRoUmJ--Nb",
        "outputId": "61ef0f2e-2452-441d-fd50-e70511dd011d"
      },
      "source": [
        "model.layers[0]"
      ],
      "execution_count": 52,
      "outputs": [
        {
          "output_type": "execute_result",
          "data": {
            "text/plain": [
              "<tensorflow.python.keras.layers.convolutional.Conv2D at 0x7f8295af3910>"
            ]
          },
          "metadata": {
            "tags": []
          },
          "execution_count": 52
        }
      ]
    },
    {
      "cell_type": "markdown",
      "metadata": {
        "id": "u2JdoiKlB7TR"
      },
      "source": [
        "## Transfer Learning Section\n",
        "\n",
        "1. \"Lock\" the convulutional layers (set to non-trainable)\n",
        "2. Remove original output layer, add new output layer with 3 neurons\n",
        "3. Train classifier on new dataset"
      ]
    },
    {
      "cell_type": "code",
      "metadata": {
        "colab": {
          "base_uri": "https://localhost:8080/"
        },
        "id": "Fk6vIUD3CPLx",
        "outputId": "690d72ca-7f99-434e-a546-66d72cd2b3ed"
      },
      "source": [
        "# lock the ConvNet layers\n",
        "layer_trainable = False\n",
        "for layer in model.layers:\n",
        "  layer.trainable = layer_trainable\n",
        "  if layer.name == 'flatten':\n",
        "    layer_trainable = True\n",
        "\n",
        "print(f\"{'Layer Name':17} {'Is Trainable?'}\")\n",
        "for layer in model.layers:\n",
        "  print(f\"{layer.name:17} {layer.trainable}\")"
      ],
      "execution_count": 53,
      "outputs": [
        {
          "output_type": "stream",
          "text": [
            "Layer Name        Is Trainable?\n",
            "conv2d_2          False\n",
            "max_pooling2d_1   False\n",
            "conv2d_3          False\n",
            "max_pooling2d_2   False\n",
            "flatten           False\n",
            "dropout_2         True\n",
            "dense_2           True\n",
            "penult            True\n",
            "last              True\n"
          ],
          "name": "stdout"
        }
      ]
    },
    {
      "cell_type": "code",
      "metadata": {
        "id": "99Jv_wRb_Ds3"
      },
      "source": [
        "# get the penultimate layer of the model\n",
        "penult_layer = model.get_layer(name = 'penult')\n",
        "\n",
        "# create a new output layer\n",
        "output_layer = keras.layers.Dense(15, activation= 'softmax')(penult_layer.output)\n",
        "\n",
        "new_model = Model(model.input, output_layer)"
      ],
      "execution_count": 54,
      "outputs": []
    },
    {
      "cell_type": "code",
      "metadata": {
        "colab": {
          "base_uri": "https://localhost:8080/"
        },
        "id": "gwXeMbrKDTO7",
        "outputId": "94f6572d-ddfa-451b-f5d8-b7176df59afb"
      },
      "source": [
        "new_model.summary()"
      ],
      "execution_count": 55,
      "outputs": [
        {
          "output_type": "stream",
          "text": [
            "Model: \"model\"\n",
            "_________________________________________________________________\n",
            "Layer (type)                 Output Shape              Param #   \n",
            "=================================================================\n",
            "conv2d_2_input (InputLayer)  [(None, 28, 28, 1)]       0         \n",
            "_________________________________________________________________\n",
            "conv2d_2 (Conv2D)            (None, 26, 26, 32)        320       \n",
            "_________________________________________________________________\n",
            "max_pooling2d_1 (MaxPooling2 (None, 13, 13, 32)        0         \n",
            "_________________________________________________________________\n",
            "conv2d_3 (Conv2D)            (None, 11, 11, 32)        9248      \n",
            "_________________________________________________________________\n",
            "max_pooling2d_2 (MaxPooling2 (None, 5, 5, 32)          0         \n",
            "_________________________________________________________________\n",
            "flatten (Flatten)            (None, 800)               0         \n",
            "_________________________________________________________________\n",
            "dropout_2 (Dropout)          (None, 800)               0         \n",
            "_________________________________________________________________\n",
            "dense_2 (Dense)              (None, 128)               102528    \n",
            "_________________________________________________________________\n",
            "penult (Dropout)             (None, 128)               0         \n",
            "_________________________________________________________________\n",
            "dense_3 (Dense)              (None, 15)                1935      \n",
            "=================================================================\n",
            "Total params: 114,031\n",
            "Trainable params: 104,463\n",
            "Non-trainable params: 9,568\n",
            "_________________________________________________________________\n"
          ],
          "name": "stdout"
        }
      ]
    },
    {
      "cell_type": "code",
      "metadata": {
        "colab": {
          "base_uri": "https://localhost:8080/"
        },
        "id": "OuiXbhPODVdJ",
        "outputId": "6acdb9c1-cbd1-4124-d8b3-e4352d6cd77b"
      },
      "source": [
        "new_model.compile(loss='sparse_categorical_crossentropy',\n",
        "                  optimizer = 'adam',\n",
        "                  metrics = ['accuracy'])\n",
        "\n",
        "new_model_hist = new_model.fit(x_train_let, train_y_let,\n",
        "                               validation_data=(x_test_let, test_y_let),\n",
        "                               batch_size=32,\n",
        "                               epochs=1000,\n",
        "                               callbacks=[es])"
      ],
      "execution_count": 56,
      "outputs": [
        {
          "output_type": "stream",
          "text": [
            "Epoch 1/1000\n",
            "1/1 [==============================] - 1s 696ms/step - loss: 2.7905 - accuracy: 0.0000e+00 - val_loss: 144.8222 - val_accuracy: 0.0000e+00\n",
            "Epoch 2/1000\n",
            "1/1 [==============================] - 0s 61ms/step - loss: 2.7073 - accuracy: 0.0000e+00 - val_loss: 111.3564 - val_accuracy: 0.0000e+00\n",
            "Epoch 3/1000\n",
            "1/1 [==============================] - 0s 56ms/step - loss: 2.6516 - accuracy: 0.0800 - val_loss: 94.6175 - val_accuracy: 0.0000e+00\n",
            "Epoch 4/1000\n",
            "1/1 [==============================] - 0s 57ms/step - loss: 2.6205 - accuracy: 0.1600 - val_loss: 89.8438 - val_accuracy: 0.2000\n",
            "Epoch 5/1000\n",
            "1/1 [==============================] - 0s 52ms/step - loss: 2.5596 - accuracy: 0.0800 - val_loss: 87.1039 - val_accuracy: 0.2000\n",
            "Epoch 6/1000\n",
            "1/1 [==============================] - 0s 50ms/step - loss: 2.5094 - accuracy: 0.3200 - val_loss: 84.9068 - val_accuracy: 0.2000\n",
            "Epoch 7/1000\n",
            "1/1 [==============================] - 0s 65ms/step - loss: 2.3998 - accuracy: 0.1600 - val_loss: 85.1356 - val_accuracy: 0.2000\n",
            "Epoch 8/1000\n",
            "1/1 [==============================] - 0s 54ms/step - loss: 2.3719 - accuracy: 0.2400 - val_loss: 83.4093 - val_accuracy: 0.2000\n",
            "Epoch 9/1000\n",
            "1/1 [==============================] - 0s 53ms/step - loss: 2.3339 - accuracy: 0.0800 - val_loss: 82.1379 - val_accuracy: 0.2000\n",
            "Epoch 10/1000\n",
            "1/1 [==============================] - 0s 55ms/step - loss: 2.3366 - accuracy: 0.1600 - val_loss: 81.1046 - val_accuracy: 0.2000\n",
            "Epoch 11/1000\n",
            "1/1 [==============================] - 0s 51ms/step - loss: 2.2511 - accuracy: 0.2000 - val_loss: 80.1960 - val_accuracy: 0.2000\n",
            "Epoch 12/1000\n",
            "1/1 [==============================] - 0s 57ms/step - loss: 2.1832 - accuracy: 0.1200 - val_loss: 79.7601 - val_accuracy: 0.2000\n",
            "Epoch 13/1000\n",
            "1/1 [==============================] - 0s 50ms/step - loss: 2.1980 - accuracy: 0.0800 - val_loss: 79.0843 - val_accuracy: 0.2000\n",
            "Epoch 14/1000\n",
            "1/1 [==============================] - 0s 56ms/step - loss: 2.1484 - accuracy: 0.2400 - val_loss: 79.7765 - val_accuracy: 0.2000\n",
            "Epoch 15/1000\n",
            "1/1 [==============================] - 0s 50ms/step - loss: 2.1051 - accuracy: 0.2400 - val_loss: 80.5618 - val_accuracy: 0.2000\n"
          ],
          "name": "stdout"
        }
      ]
    },
    {
      "cell_type": "code",
      "metadata": {
        "colab": {
          "base_uri": "https://localhost:8080/",
          "height": 344
        },
        "id": "w9X0EPEwEBDJ",
        "outputId": "19361874-afce-42ac-f8a8-32eebb926130"
      },
      "source": [
        "plot_training_curves(new_model_hist)"
      ],
      "execution_count": 57,
      "outputs": [
        {
          "output_type": "display_data",
          "data": {
            "image/png": "[encoded data removed]",
            "text/plain": [
              "<Figure size 1080x504 with 2 Axes>"
            ]
          },
          "metadata": {
            "tags": [],
            "needs_background": "light"
          }
        }
      ]
    },
    {
      "cell_type": "code",
      "metadata": {
        "id": "-dpRACwtETK6"
      },
      "source": [
        ""
      ],
      "execution_count": 57,
      "outputs": []
    }
  ]
}